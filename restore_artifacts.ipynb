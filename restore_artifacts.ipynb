{
 "cells": [
  {
   "cell_type": "code",
   "execution_count": 14,
   "metadata": {},
   "outputs": [
    {
     "name": "stderr",
     "output_type": "stream",
     "text": [
      "\u001b[34m\u001b[1mwandb\u001b[0m: \u001b[33mWARNING\u001b[0m If you're specifying your api key in code, ensure this code is not shared publicly.\n",
      "\u001b[34m\u001b[1mwandb\u001b[0m: \u001b[33mWARNING\u001b[0m Consider setting the WANDB_API_KEY environment variable, or running `wandb login` from the command line.\n",
      "\u001b[34m\u001b[1mwandb\u001b[0m: Appending key for api.wandb.ai to your netrc file: /home/bizon/.netrc\n",
      "\u001b[34m\u001b[1mwandb\u001b[0m: Downloading large artifact model-lq4x9v9x:v12, 257.95MB. 11 files... \n",
      "\u001b[34m\u001b[1mwandb\u001b[0m:   11 of 11 files downloaded.  \n",
      "Done. 0:0:0.3\n"
     ]
    },
    {
     "data": {
      "text/plain": [
       "'llama-3-8b-Instruct-bnb-4bit-synthetic_text_to_sql-outputs/v12'"
      ]
     },
     "execution_count": 14,
     "metadata": {},
     "output_type": "execute_result"
    }
   ],
   "source": [
    "import os\n",
    "from dotenv import load_dotenv\n",
    "import wandb\n",
    "\n",
    "# Load the environment variables from the .env file\n",
    "load_dotenv()\n",
    "#retrive the token from the environment variable\n",
    "wandb.login(key=os.environ['WANDB_API_KEY'])\n",
    "\n",
    "\n",
    "api = wandb.Api()\n",
    "# artifact = api.artifact(\"entity/project/artifact:alias\")\n",
    "entity_name = 'fml-team'\n",
    "project_name = 'llama-3-8b-Instruct-bnb-4bit-synthetic_text_to_sql'\n",
    "run_name = 'model-lq4x9v9x'\n",
    "alias_name = 'v12'\n",
    "download_dir = f\"{project_name}-outputs/{alias_name}\"\n",
    "\n",
    "artifact = api.artifact(f\"{entity_name}/{project_name}/{run_name}:{alias_name}\")\n",
    "artifact.download(root=download_dir)\n"
   ]
  },
  {
   "cell_type": "code",
   "execution_count": 3,
   "metadata": {},
   "outputs": [],
   "source": [
    "import wandb\n",
    "import os\n",
    "\n",
    "# Initialize W&B API\n",
    "api = wandb.Api()\n",
    "\n",
    "# Define the entity name\n",
    "entity_name = 'fml-team'\n",
    "project_name = 'llama-3-8b-Instruct-bnb-4bit-synthetic_text_to_sql'\n",
    "\n",
    "# Get the list of all projects for the entity\n",
    "projects = api.projects(entity=entity_name)\n",
    "\n",
    "# list all project names\n",
    "project_names = [project.name for project in projects]\n"
   ]
  },
  {
   "cell_type": "code",
   "execution_count": 4,
   "metadata": {},
   "outputs": [
    {
     "name": "stdout",
     "output_type": "stream",
     "text": [
      "['your_project_name', 'huggingface', 'Phi-3-medium-4k-instruct-synthetic_text_to_sql', 'llama-3-8b-Instruct-bnb-4bit-synthetic_text_to_sql', 'llama-3-8b-bnb-4bit-synthetic_text_to_sql', 'torchtune', 'fastapi-serve', 'sdc-project-ams', 'leo-mistral-hessianai-7b-chat-ams-finetuned', 'leo-mistral-hessianai-7b-ams-finetuned', 'leo-hessianai-7b-chat-ams-finetuned-interference', 'leo-hessianai-7b-chat-ams-finetuned-ams-finetuned', 'leo-hessianai-7b-chat-ams-finetuned', 'german-gpt2-ams-finetune', 'ChatTable', 'chat_llm', 'fhtw_llm_tuning']\n"
     ]
    }
   ],
   "source": [
    "print(project_names)"
   ]
  },
  {
   "cell_type": "code",
   "execution_count": 5,
   "metadata": {},
   "outputs": [
    {
     "name": "stdout",
     "output_type": "stream",
     "text": [
      "Run Names: ['exalted-bush-10', './llama-3-8b-Instruct-bnb-4bit-synthetic_text_to_sql-outputs', './llama-3-8b-Instruct-bnb-4bit-synthetic_text_to_sql-outputs', './llama-3-8b-Instruct-bnb-4bit-synthetic_text_to_sql-outputs', './llama-3-8b-Instruct-bnb-4bit-synthetic_text_to_sql-outputs', './llama-3-8b-Instruct-bnb-4bit-synthetic_text_to_sql-outputs', './llama-3-8b-Instruct-bnb-4bit-synthetic_text_to_sql-outputs', './llama-3-8b-Instruct-bnb-4bit-synthetic_text_to_sql-outputs', 'outputs']\n",
      "Run IDs: ['zcvj03qx', 'lq4x9v9x', 'd156sa13', 'myuh8k4f', 'kyyp5sv2', 'gzvaxidb', 'pwp51iyq', '6tr1xiln', 'xvzb7wkx']\n"
     ]
    }
   ],
   "source": [
    "import wandb\n",
    "import os\n",
    "\n",
    "# login to W&B\n",
    "wandb.login()\n",
    "\n",
    "# Initialize W&B API\n",
    "api = wandb.Api()\n",
    "\n",
    "# Define the entity name and project name\n",
    "entity_name = 'fml-team'\n",
    "project_name = 'llama-3-8b-Instruct-bnb-4bit-synthetic_text_to_sql'\n",
    "\n",
    "# Create a directory to store all downloaded artifacts\n",
    "download_base_dir = './wandb_downloads'\n",
    "os.makedirs(download_base_dir, exist_ok=True)\n",
    "\n",
    "# Get the list of all runs in the project\n",
    "runs = api.runs(path=f'{entity_name}/{project_name}')\n",
    "\n",
    "# List all run names\n",
    "run_names = [run.name for run in runs]\n",
    "print(\"Run Names:\", run_names)\n",
    "\n",
    "# List all run IDs\n",
    "run_ids = [run.id for run in runs]\n",
    "print(\"Run IDs:\", run_ids)\n",
    "\n",
    "# Rest of your code..."
   ]
  },
  {
   "cell_type": "code",
   "execution_count": null,
   "metadata": {},
   "outputs": [
    {
     "name": "stdout",
     "output_type": "stream",
     "text": [
      "Processing run: exalted-bush-10 (ID: zcvj03qx)\n",
      "Processing run: ./llama-3-8b-Instruct-bnb-4bit-synthetic_text_to_sql-outputs (ID: lq4x9v9x)\n",
      "  Artifact: model-lq4x9v9x:v0, Aliases: ['base_model']\n",
      "  Artifact: model-lq4x9v9x:v1, Aliases: ['checkpoint_global_step_41500', 'epoch_3.32']\n",
      "  Artifact: model-lq4x9v9x:v2, Aliases: ['checkpoint_global_step_42000', 'epoch_3.36']\n",
      "  Artifact: model-lq4x9v9x:v3, Aliases: ['checkpoint_global_step_42500', 'epoch_3.4']\n",
      "  Artifact: model-lq4x9v9x:v4, Aliases: ['checkpoint_global_step_43000', 'epoch_3.44']\n",
      "  Artifact: model-lq4x9v9x:v5, Aliases: ['checkpoint_global_step_43500', 'epoch_3.48']\n",
      "  Artifact: model-lq4x9v9x:v6, Aliases: ['checkpoint_global_step_44000', 'epoch_3.52']\n",
      "  Artifact: model-lq4x9v9x:v7, Aliases: ['checkpoint_global_step_44500', 'epoch_3.56']\n",
      "  Artifact: model-lq4x9v9x:v8, Aliases: ['epoch_3.6', 'checkpoint_global_step_45000']\n",
      "  Artifact: model-lq4x9v9x:v9, Aliases: ['checkpoint_global_step_45500', 'epoch_3.64']\n",
      "  Artifact: model-lq4x9v9x:v10, Aliases: ['checkpoint_global_step_46000', 'epoch_3.68']\n",
      "  Artifact: model-lq4x9v9x:v11, Aliases: ['epoch_3.72', 'checkpoint_global_step_46500']\n",
      "  Artifact: model-lq4x9v9x:v12, Aliases: ['latest', 'epoch_3.76', 'checkpoint_global_step_47000']\n",
      "  Artifact: run-lq4x9v9x-history:v0, Aliases: ['latest']\n",
      "Processing run: ./llama-3-8b-Instruct-bnb-4bit-synthetic_text_to_sql-outputs (ID: d156sa13)\n",
      "  Artifact: model-d156sa13:v0, Aliases: ['base_model']\n",
      "  Artifact: model-d156sa13:v1, Aliases: ['epoch_3.04', 'checkpoint_global_step_38000']\n",
      "  Artifact: model-d156sa13:v2, Aliases: ['checkpoint_global_step_38500', 'epoch_3.08']\n",
      "  Artifact: model-d156sa13:v3, Aliases: ['checkpoint_global_step_39000', 'epoch_3.12']\n",
      "  Artifact: model-d156sa13:v4, Aliases: ['checkpoint_global_step_39500', 'epoch_3.16']\n",
      "  Artifact: model-d156sa13:v5, Aliases: ['epoch_3.2', 'checkpoint_global_step_40000']\n",
      "  Artifact: model-d156sa13:v6, Aliases: ['epoch_3.24', 'checkpoint_global_step_40500']\n",
      "  Artifact: model-d156sa13:v7, Aliases: ['checkpoint_global_step_41000', 'epoch_3.28', 'latest']\n",
      "  Artifact: run-d156sa13-history:v0, Aliases: ['latest']\n",
      "Processing run: ./llama-3-8b-Instruct-bnb-4bit-synthetic_text_to_sql-outputs (ID: myuh8k4f)\n",
      "  Artifact: model-myuh8k4f:v0, Aliases: ['base_model']\n",
      "  Artifact: model-myuh8k4f:v1, Aliases: ['epoch_2.8', 'checkpoint_global_step_35000']\n",
      "  Artifact: model-myuh8k4f:v2, Aliases: ['epoch_2.84', 'checkpoint_global_step_35500']\n",
      "  Artifact: model-myuh8k4f:v3, Aliases: ['checkpoint_global_step_36000', 'epoch_2.88']\n",
      "  Artifact: model-myuh8k4f:v4, Aliases: ['checkpoint_global_step_36500', 'epoch_2.92']\n",
      "  Artifact: model-myuh8k4f:v5, Aliases: ['checkpoint_global_step_37000', 'epoch_2.96']\n",
      "  Artifact: model-myuh8k4f:v6, Aliases: ['checkpoint_global_step_37500', 'epoch_3.0']\n",
      "  Artifact: model-myuh8k4f:v7, Aliases: ['final_model', 'latest']\n",
      "  Artifact: run-myuh8k4f-history:v0, Aliases: ['latest']\n",
      "Processing run: ./llama-3-8b-Instruct-bnb-4bit-synthetic_text_to_sql-outputs (ID: kyyp5sv2)\n",
      "  Artifact: model-kyyp5sv2:v0, Aliases: ['base_model']\n",
      "  Artifact: model-kyyp5sv2:v1, Aliases: ['epoch_2.12', 'checkpoint_global_step_26500']\n",
      "  Artifact: model-kyyp5sv2:v2, Aliases: ['epoch_2.16', 'checkpoint_global_step_27000']\n",
      "  Artifact: model-kyyp5sv2:v3, Aliases: ['epoch_2.2', 'checkpoint_global_step_27500']\n",
      "  Artifact: model-kyyp5sv2:v4, Aliases: ['epoch_2.24', 'checkpoint_global_step_28000']\n",
      "  Artifact: model-kyyp5sv2:v5, Aliases: ['epoch_2.28', 'checkpoint_global_step_28500']\n",
      "  Artifact: model-kyyp5sv2:v6, Aliases: ['epoch_2.32', 'checkpoint_global_step_29000']\n",
      "  Artifact: model-kyyp5sv2:v7, Aliases: ['checkpoint_global_step_29500', 'epoch_2.36']\n",
      "  Artifact: model-kyyp5sv2:v8, Aliases: ['checkpoint_global_step_30000', 'epoch_2.4']\n",
      "  Artifact: model-kyyp5sv2:v9, Aliases: ['epoch_2.44', 'checkpoint_global_step_30500']\n",
      "  Artifact: model-kyyp5sv2:v10, Aliases: ['epoch_2.48', 'checkpoint_global_step_31000']\n",
      "  Artifact: model-kyyp5sv2:v11, Aliases: ['checkpoint_global_step_31500', 'epoch_2.52']\n",
      "  Artifact: model-kyyp5sv2:v12, Aliases: ['epoch_2.56', 'checkpoint_global_step_32000']\n",
      "  Artifact: model-kyyp5sv2:v13, Aliases: ['epoch_2.6', 'checkpoint_global_step_32500']\n",
      "  Artifact: model-kyyp5sv2:v14, Aliases: ['epoch_2.64', 'checkpoint_global_step_33000']\n",
      "  Artifact: model-kyyp5sv2:v15, Aliases: ['checkpoint_global_step_33500', 'epoch_2.68']\n",
      "  Artifact: model-kyyp5sv2:v16, Aliases: ['epoch_2.72', 'checkpoint_global_step_34000']\n",
      "  Artifact: model-kyyp5sv2:v17, Aliases: ['checkpoint_global_step_34500', 'latest', 'epoch_2.76']\n",
      "  Artifact: run-kyyp5sv2-history:v0, Aliases: ['latest']\n",
      "Processing run: ./llama-3-8b-Instruct-bnb-4bit-synthetic_text_to_sql-outputs (ID: gzvaxidb)\n",
      "  Artifact: model-gzvaxidb:v0, Aliases: ['base_model']\n",
      "  Artifact: model-gzvaxidb:v1, Aliases: ['epoch_1.48', 'checkpoint_global_step_18500']\n",
      "  Artifact: model-gzvaxidb:v2, Aliases: ['epoch_1.52', 'checkpoint_global_step_19000']\n",
      "  Artifact: model-gzvaxidb:v3, Aliases: ['checkpoint_global_step_19500', 'epoch_1.56']\n",
      "  Artifact: model-gzvaxidb:v4, Aliases: ['epoch_1.6', 'checkpoint_global_step_20000']\n",
      "  Artifact: model-gzvaxidb:v5, Aliases: ['epoch_1.64', 'checkpoint_global_step_20500']\n",
      "  Artifact: model-gzvaxidb:v6, Aliases: ['checkpoint_global_step_21000', 'epoch_1.68']\n",
      "  Artifact: model-gzvaxidb:v7, Aliases: ['checkpoint_global_step_21500', 'epoch_1.72']\n",
      "  Artifact: model-gzvaxidb:v8, Aliases: ['epoch_1.76', 'checkpoint_global_step_22000']\n",
      "  Artifact: model-gzvaxidb:v9, Aliases: ['checkpoint_global_step_22500', 'epoch_1.8']\n",
      "  Artifact: model-gzvaxidb:v10, Aliases: ['checkpoint_global_step_23000', 'epoch_1.84']\n",
      "  Artifact: model-gzvaxidb:v11, Aliases: ['checkpoint_global_step_23500', 'epoch_1.88']\n",
      "  Artifact: model-gzvaxidb:v12, Aliases: ['epoch_1.92', 'checkpoint_global_step_24000']\n",
      "  Artifact: model-gzvaxidb:v13, Aliases: ['epoch_1.96', 'checkpoint_global_step_24500']\n",
      "  Artifact: model-gzvaxidb:v14, Aliases: ['checkpoint_global_step_25000', 'epoch_2.0']\n",
      "  Artifact: model-gzvaxidb:v15, Aliases: ['epoch_2.04', 'checkpoint_global_step_25500']\n",
      "  Artifact: model-gzvaxidb:v16, Aliases: ['epoch_2.08', 'checkpoint_global_step_26000', 'latest']\n",
      "  Artifact: run-gzvaxidb-history:v0, Aliases: ['latest']\n",
      "Processing run: ./llama-3-8b-Instruct-bnb-4bit-synthetic_text_to_sql-outputs (ID: pwp51iyq)\n",
      "  Artifact: model-pwp51iyq:v0, Aliases: ['base_model']\n",
      "  Artifact: model-pwp51iyq:v1, Aliases: ['checkpoint_global_step_9000', 'epoch_0.72']\n",
      "  Artifact: model-pwp51iyq:v2, Aliases: ['checkpoint_global_step_9500', 'epoch_0.76']\n",
      "  Artifact: model-pwp51iyq:v3, Aliases: ['epoch_0.8', 'checkpoint_global_step_10000']\n",
      "  Artifact: model-pwp51iyq:v4, Aliases: ['checkpoint_global_step_10500', 'epoch_0.84']\n",
      "  Artifact: model-pwp51iyq:v5, Aliases: ['checkpoint_global_step_11000', 'epoch_0.88']\n",
      "  Artifact: model-pwp51iyq:v6, Aliases: ['checkpoint_global_step_11500', 'epoch_0.92']\n",
      "  Artifact: model-pwp51iyq:v7, Aliases: ['checkpoint_global_step_12000', 'epoch_0.96']\n",
      "  Artifact: model-pwp51iyq:v8, Aliases: ['epoch_1.0', 'checkpoint_global_step_12500']\n",
      "  Artifact: model-pwp51iyq:v9, Aliases: ['epoch_1.04', 'checkpoint_global_step_13000']\n",
      "  Artifact: model-pwp51iyq:v10, Aliases: ['checkpoint_global_step_13500', 'epoch_1.08']\n",
      "  Artifact: model-pwp51iyq:v11, Aliases: ['checkpoint_global_step_14000', 'epoch_1.12']\n",
      "  Artifact: model-pwp51iyq:v12, Aliases: ['checkpoint_global_step_14500', 'epoch_1.16']\n",
      "  Artifact: model-pwp51iyq:v13, Aliases: ['epoch_1.2', 'checkpoint_global_step_15000']\n",
      "  Artifact: model-pwp51iyq:v14, Aliases: ['checkpoint_global_step_15500', 'epoch_1.24']\n",
      "  Artifact: model-pwp51iyq:v15, Aliases: ['epoch_1.28', 'checkpoint_global_step_16000']\n",
      "  Artifact: model-pwp51iyq:v16, Aliases: ['checkpoint_global_step_16500', 'epoch_1.32']\n",
      "  Artifact: model-pwp51iyq:v17, Aliases: ['checkpoint_global_step_17000', 'epoch_1.36']\n",
      "  Artifact: model-pwp51iyq:v18, Aliases: ['checkpoint_global_step_17500', 'epoch_1.4']\n",
      "  Artifact: model-pwp51iyq:v19, Aliases: ['epoch_1.44', 'checkpoint_global_step_18000', 'latest']\n",
      "  Artifact: run-pwp51iyq-history:v0, Aliases: ['latest']\n",
      "Processing run: ./llama-3-8b-Instruct-bnb-4bit-synthetic_text_to_sql-outputs (ID: 6tr1xiln)\n",
      "  Artifact: model-6tr1xiln:v0, Aliases: ['base_model']\n",
      "  Artifact: model-6tr1xiln:v1, Aliases: ['epoch_0.04', 'checkpoint_global_step_500']\n",
      "  Artifact: model-6tr1xiln:v2, Aliases: ['checkpoint_global_step_1000', 'epoch_0.08']\n",
      "  Artifact: model-6tr1xiln:v3, Aliases: ['checkpoint_global_step_1500', 'epoch_0.12']\n",
      "  Artifact: model-6tr1xiln:v4, Aliases: ['checkpoint_global_step_2000', 'epoch_0.16']\n",
      "  Artifact: model-6tr1xiln:v5, Aliases: ['checkpoint_global_step_2500', 'epoch_0.2']\n",
      "  Artifact: model-6tr1xiln:v6, Aliases: ['epoch_0.24', 'checkpoint_global_step_3000']\n",
      "  Artifact: model-6tr1xiln:v7, Aliases: ['epoch_0.28', 'checkpoint_global_step_3500']\n",
      "  Artifact: model-6tr1xiln:v8, Aliases: ['checkpoint_global_step_4000', 'epoch_0.32']\n",
      "  Artifact: model-6tr1xiln:v9, Aliases: ['epoch_0.36', 'checkpoint_global_step_4500']\n",
      "  Artifact: model-6tr1xiln:v10, Aliases: ['checkpoint_global_step_5000', 'epoch_0.4']\n",
      "  Artifact: model-6tr1xiln:v11, Aliases: ['epoch_0.44', 'checkpoint_global_step_5500']\n",
      "  Artifact: model-6tr1xiln:v12, Aliases: ['checkpoint_global_step_6000', 'epoch_0.48']\n",
      "  Artifact: model-6tr1xiln:v13, Aliases: ['checkpoint_global_step_6500', 'epoch_0.52']\n",
      "  Artifact: model-6tr1xiln:v14, Aliases: ['checkpoint_global_step_7000', 'epoch_0.56']\n",
      "  Artifact: model-6tr1xiln:v15, Aliases: ['epoch_0.6', 'checkpoint_global_step_7500']\n",
      "  Artifact: model-6tr1xiln:v16, Aliases: ['checkpoint_global_step_8000', 'epoch_0.64']\n",
      "  Artifact: model-6tr1xiln:v17, Aliases: ['epoch_0.68', 'checkpoint_global_step_8500', 'latest']\n",
      "  Artifact: run-6tr1xiln-history:v0, Aliases: ['latest']\n",
      "Processing run: outputs (ID: xvzb7wkx)\n",
      "  Artifact: model-xvzb7wkx:v0, Aliases: ['base_model']\n",
      "  Artifact: model-xvzb7wkx:v1, Aliases: ['latest', 'final_model']\n",
      "  Artifact: run-xvzb7wkx-history:v0, Aliases: ['latest']\n"
     ]
    }
   ],
   "source": [
    "# Iterate through each run\n",
    "for run in runs:\n",
    "    run_id = run.id\n",
    "    run_name = run.name\n",
    "    print(f\"Processing run: {run_name} (ID: {run_id})\")\n",
    "\n",
    "    # Get the list of artifacts logged by the run\n",
    "    artifacts = run.logged_artifacts()\n",
    "\n",
    "    # Iterate through each artifact\n",
    "    for artifact in artifacts:\n",
    "        artifact_name = artifact.name\n",
    "        artifact_aliases = artifact.aliases\n",
    "\n",
    "        print(f\"  Artifact: {artifact_name}, Aliases: {artifact_aliases}\")"
   ]
  },
  {
   "cell_type": "code",
   "execution_count": null,
   "metadata": {},
   "outputs": [],
   "source": [
    "# # Iterate through each run\n",
    "# for run in runs:\n",
    "#     run_id = run.id\n",
    "#     run_name = run.name\n",
    "#     print(f\"Processing run: {run_name} (ID: {run_id})\")\n",
    "\n",
    "#     # Get the list of artifacts logged by the run\n",
    "#     artifacts = run.logged_artifacts()\n",
    "\n",
    "#     # Iterate through each artifact\n",
    "#     for artifact in artifacts:\n",
    "#         artifact_name = artifact.name\n",
    "\n",
    "#         # Get the list of versions for the artifact\n",
    "#         artifact_versions = api.artifact_versions('model', f'{entity_name}/{project_name}/{artifact_name}')\n",
    "\n",
    "#         # Print the artifact names and versions\n",
    "#         print(f\"  Artifact: {artifact_name}\")\n",
    "#         for artifact_version in artifact_versions:\n",
    "#             print(f'    Version: {artifact_version.version}')\n",
    "\n",
    "#         # Iterate through each version and download the artifact\n",
    "#         for artifact_version in artifact_versions:\n",
    "#             version = artifact_version.version\n",
    "#             artifact_full_name = f'{entity_name}/{project_name}/{artifact_name}:{version}'\n",
    "#             print(f'Downloading {artifact_full_name}')\n",
    "            \n",
    "#             artifact_instance = wandb.use_artifact(artifact_full_name, type='model')\n",
    "#             artifact_dir = artifact_instance.download(root=os.path.join(download_base_dir, project_name, run_name, artifact_name, f'v{version}'))\n",
    "#             print(f'Downloaded {artifact_full_name} to {artifact_dir}')\n",
    "\n",
    "# print(\"All artifacts downloaded successfully.\")"
   ]
  },
  {
   "cell_type": "code",
   "execution_count": 8,
   "metadata": {},
   "outputs": [
    {
     "name": "stdout",
     "output_type": "stream",
     "text": [
      "Run ./llama-3-8b-Instruct-bnb-4bit-synthetic_text_to_sql-outputs (ID: myuh8k4f) has an artifact with alias 'epoch_3.0'\n"
     ]
    }
   ],
   "source": [
    "\n",
    "# Define the alias you're looking for\n",
    "target_alias = 'epoch_3.0'\n",
    "\n",
    "# Get the list of all runs in the project\n",
    "runs = api.runs(path=f'{entity_name}/{project_name}')\n",
    "\n",
    "# Iterate through each run\n",
    "for run in runs:\n",
    "    # Get the list of artifacts logged by the run\n",
    "    artifacts = run.logged_artifacts()\n",
    "\n",
    "    # Iterate through each artifact\n",
    "    for artifact in artifacts:\n",
    "        # Check if the target alias is in the artifact's aliases\n",
    "        if target_alias in artifact.aliases:\n",
    "            print(f\"Run {run.name} (ID: {run.id}) has an artifact with alias '{target_alias}'\")"
   ]
  },
  {
   "cell_type": "code",
   "execution_count": 9,
   "metadata": {},
   "outputs": [
    {
     "name": "stdout",
     "output_type": "stream",
     "text": [
      "Run ./llama-3-8b-Instruct-bnb-4bit-synthetic_text_to_sql-outputs (ID: myuh8k4f) has an artifact with alias 'epoch_3.0'\n"
     ]
    },
    {
     "name": "stderr",
     "output_type": "stream",
     "text": [
      "\u001b[34m\u001b[1mwandb\u001b[0m: Downloading large artifact model-myuh8k4f:v6, 256.46MB. 11 files... \n",
      "\u001b[34m\u001b[1mwandb\u001b[0m:   11 of 11 files downloaded.  \n",
      "Done. 0:0:0.4\n"
     ]
    },
    {
     "name": "stdout",
     "output_type": "stream",
     "text": [
      "Downloaded artifact 'model-myuh8k4f:v6' to './downloaded_artifacts'\n"
     ]
    }
   ],
   "source": [
    "# Define the directory to download the artifacts to\n",
    "download_dir = './downloaded_artifacts'\n",
    "\n",
    "# Iterate through each run\n",
    "for run in runs:\n",
    "    # Get the list of artifacts logged by the run\n",
    "    artifacts = run.logged_artifacts()\n",
    "\n",
    "    # Iterate through each artifact\n",
    "    for artifact in artifacts:\n",
    "        # Check if the target alias is in the artifact's aliases\n",
    "        if target_alias in artifact.aliases:\n",
    "            print(f\"Run {run.name} (ID: {run.id}) has an artifact with alias '{target_alias}'\")\n",
    "\n",
    "            # Download the artifact\n",
    "            artifact.download(root=download_dir)\n",
    "\n",
    "            print(f\"Downloaded artifact '{artifact.name}' to '{download_dir}'\")"
   ]
  }
 ],
 "metadata": {
  "kernelspec": {
   "display_name": "Python 3",
   "language": "python",
   "name": "python3"
  },
  "language_info": {
   "codemirror_mode": {
    "name": "ipython",
    "version": 3
   },
   "file_extension": ".py",
   "mimetype": "text/x-python",
   "name": "python",
   "nbconvert_exporter": "python",
   "pygments_lexer": "ipython3",
   "version": "3.10.14"
  }
 },
 "nbformat": 4,
 "nbformat_minor": 2
}
